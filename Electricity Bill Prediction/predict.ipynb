{
 "cells": [
  {
   "cell_type": "code",
   "execution_count": 1,
   "id": "5e321a2b",
   "metadata": {},
   "outputs": [],
   "source": [
    "import pickle\n",
    "import numpy as np"
   ]
  },
  {
   "cell_type": "code",
   "execution_count": 2,
   "id": "42960725",
   "metadata": {},
   "outputs": [],
   "source": [
    "le_city=pickle.load(open('le_city.pkl','rb'))\n",
    "le_company=pickle.load(open('le_company.pkl','rb'))\n",
    "scalar=pickle.load(open('scalar.pkl','rb'))\n",
    "lin_model=pickle.load(open('lin.pkl','rb'))"
   ]
  },
  {
   "cell_type": "code",
   "execution_count": 3,
   "id": "ed879d26",
   "metadata": {},
   "outputs": [],
   "source": [
    "data=[13,22,2,21,1,4,'Hyderabad','TransRail Lighting',546,8.4]"
   ]
  },
  {
   "cell_type": "code",
   "execution_count": 4,
   "id": "c97fb075",
   "metadata": {},
   "outputs": [
    {
     "data": {
      "text/plain": [
       "array(['Adani Power Ltd.', 'Bonfiglioli Transmission Pvt. Ltd.', 'CESC',\n",
       "       'GE T&D India Limited', 'Guj Ind Power', 'Indowind Energy',\n",
       "       'JSW Energy Ltd.', 'Jaiprakash Power', 'Jyoti Structure',\n",
       "       'KEC International', 'Kalpataru Power',\n",
       "       'L&T Transmission & Distribution',\n",
       "       'Maha Transco – Maharashtra State Electricity Transmission Co, Ltd.',\n",
       "       'NHPC', 'NLC India', 'NTPC Pvt. Ltd.',\n",
       "       'Neueon Towers / Sujana Towers Ltd.',\n",
       "       'Optibelt Power Transmission India Private Limited',\n",
       "       'Orient Green', 'Power Grid Corp',\n",
       "       'Ratnagiri Gas and Power Pvt. Ltd. (RGPPL)', 'Reliance Energy',\n",
       "       'Reliance Power', 'Ringfeder Power Transmission India Pvt. Ltd.',\n",
       "       'SJVN Ltd.', 'Sterlite Power Transmission Ltd', 'Sunil Hitech Eng',\n",
       "       'Tata Power Company Ltd.', 'Torrent Power Ltd.',\n",
       "       'Toshiba Transmission & Distribution Systems (India) Pvt. Ltd.',\n",
       "       'TransRail Lighting', 'Unitech Power Transmission Ltd.'],\n",
       "      dtype=object)"
      ]
     },
     "execution_count": 4,
     "metadata": {},
     "output_type": "execute_result"
    }
   ],
   "source": [
    "le_city.classes_\n",
    "le_company.classes_"
   ]
  },
  {
   "cell_type": "code",
   "execution_count": 5,
   "id": "3f7f1069",
   "metadata": {},
   "outputs": [],
   "source": [
    "data[6]=int(le_city.transform([data[6]]))"
   ]
  },
  {
   "cell_type": "code",
   "execution_count": 6,
   "id": "073a2b9f",
   "metadata": {},
   "outputs": [
    {
     "data": {
      "text/plain": [
       "5"
      ]
     },
     "execution_count": 6,
     "metadata": {},
     "output_type": "execute_result"
    }
   ],
   "source": [
    "data[6]"
   ]
  },
  {
   "cell_type": "code",
   "execution_count": 7,
   "id": "1cd06492",
   "metadata": {},
   "outputs": [],
   "source": [
    "data[7]=int(le_company.transform([data[7]]))"
   ]
  },
  {
   "cell_type": "code",
   "execution_count": 8,
   "id": "c65a9aac",
   "metadata": {},
   "outputs": [
    {
     "data": {
      "text/plain": [
       "30"
      ]
     },
     "execution_count": 8,
     "metadata": {},
     "output_type": "execute_result"
    }
   ],
   "source": [
    "data[7]"
   ]
  },
  {
   "cell_type": "code",
   "execution_count": 9,
   "id": "277b741d",
   "metadata": {},
   "outputs": [
    {
     "data": {
      "text/plain": [
       "[13, 22, 2, 21, 1, 4, 5, 30, 546, 8.4]"
      ]
     },
     "execution_count": 9,
     "metadata": {},
     "output_type": "execute_result"
    }
   ],
   "source": [
    "data"
   ]
  },
  {
   "cell_type": "code",
   "execution_count": 10,
   "id": "c9bf2c86",
   "metadata": {},
   "outputs": [],
   "source": [
    "data[8]=(scalar.transform([[data[8]]]))[0]"
   ]
  },
  {
   "cell_type": "code",
   "execution_count": 11,
   "id": "1bf7ece6",
   "metadata": {},
   "outputs": [
    {
     "data": {
      "text/plain": [
       "array([0.2540409])"
      ]
     },
     "execution_count": 11,
     "metadata": {},
     "output_type": "execute_result"
    }
   ],
   "source": [
    "data[8]"
   ]
  },
  {
   "cell_type": "code",
   "execution_count": 12,
   "id": "b3df29de",
   "metadata": {},
   "outputs": [
    {
     "data": {
      "text/plain": [
       "[13, 22, 2, 21, 1, 4, 5, 30, array([0.2540409]), 8.4]"
      ]
     },
     "execution_count": 12,
     "metadata": {},
     "output_type": "execute_result"
    }
   ],
   "source": [
    "data"
   ]
  },
  {
   "cell_type": "code",
   "execution_count": 13,
   "id": "0a4c6cb7",
   "metadata": {},
   "outputs": [
    {
     "name": "stdout",
     "output_type": "stream",
     "text": [
      "[4589.08111679]\n"
     ]
    },
    {
     "name": "stderr",
     "output_type": "stream",
     "text": [
      "C:\\Users\\A Keerthi Reddy\\AppData\\Local\\Temp\\ipykernel_9052\\3895530506.py:1: VisibleDeprecationWarning: Creating an ndarray from ragged nested sequences (which is a list-or-tuple of lists-or-tuples-or ndarrays with different lengths or shapes) is deprecated. If you meant to do this, you must specify 'dtype=object' when creating the ndarray.\n",
      "  data=np.array(data).reshape(1,-1)\n"
     ]
    }
   ],
   "source": [
    "data=np.array(data).reshape(1,-1)\n",
    "print(lin_model.predict(data))"
   ]
  }
 ],
 "metadata": {
  "kernelspec": {
   "display_name": "Python 3",
   "language": "python",
   "name": "python3"
  },
  "language_info": {
   "codemirror_mode": {
    "name": "ipython",
    "version": 3
   },
   "file_extension": ".py",
   "mimetype": "text/x-python",
   "name": "python",
   "nbconvert_exporter": "python",
   "pygments_lexer": "ipython3",
   "version": "3.9.2"
  }
 },
 "nbformat": 4,
 "nbformat_minor": 5
}
